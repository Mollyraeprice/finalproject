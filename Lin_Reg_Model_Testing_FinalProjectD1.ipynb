{
 "cells": [
  {
   "cell_type": "code",
   "execution_count": 1,
   "id": "31fd17be",
   "metadata": {},
   "outputs": [],
   "source": [
    "# import dependencies\n",
    "# load csv\n",
    "# drop NAs? scale data? scatter plots...\n",
    "# do a heat map to show NAs\n",
    "# linear regression model\n",
    "# for loop to test multiple models at once\n",
    "# "
   ]
  },
  {
   "cell_type": "code",
   "execution_count": 15,
   "id": "5a6c44be",
   "metadata": {},
   "outputs": [],
   "source": [
    "import pandas as pd\n",
    "import numpy as np\n",
    "from pathlib import Path\n",
    "import matplotlib.pyplot as plt\n",
    "from sklearn.linear_model import LinearRegression\n",
    "from sklearn.ensemble import RandomForestClassifier\n",
    "from sklearn.preprocessing import StandardScaler\n",
    "from sklearn.model_selection import train_test_split\n",
    "from sklearn.metrics import explained_variance_score as evs # evaluation metric\n",
    "from sklearn.metrics import r2_score as r2 # evaluation metric"
   ]
  },
  {
   "cell_type": "code",
   "execution_count": 3,
   "id": "ee300f33",
   "metadata": {},
   "outputs": [
    {
     "data": {
      "text/html": [
       "<div>\n",
       "<style scoped>\n",
       "    .dataframe tbody tr th:only-of-type {\n",
       "        vertical-align: middle;\n",
       "    }\n",
       "\n",
       "    .dataframe tbody tr th {\n",
       "        vertical-align: top;\n",
       "    }\n",
       "\n",
       "    .dataframe thead th {\n",
       "        text-align: right;\n",
       "    }\n",
       "</style>\n",
       "<table border=\"1\" class=\"dataframe\">\n",
       "  <thead>\n",
       "    <tr style=\"text-align: right;\">\n",
       "      <th></th>\n",
       "      <th>latestPrice</th>\n",
       "      <th>propertyTaxRate</th>\n",
       "      <th>garageSpaces</th>\n",
       "      <th>numPriceChanges</th>\n",
       "      <th>lotSizeSqFt</th>\n",
       "      <th>livingAreaSqFt</th>\n",
       "      <th>avgSchoolRating</th>\n",
       "      <th>numOfBathrooms</th>\n",
       "      <th>numOfBedrooms</th>\n",
       "    </tr>\n",
       "  </thead>\n",
       "  <tbody>\n",
       "    <tr>\n",
       "      <th>0</th>\n",
       "      <td>305000</td>\n",
       "      <td>1.98</td>\n",
       "      <td>2</td>\n",
       "      <td>5</td>\n",
       "      <td>6011.0</td>\n",
       "      <td>2601</td>\n",
       "      <td>2.666667</td>\n",
       "      <td>3.0</td>\n",
       "      <td>4</td>\n",
       "    </tr>\n",
       "    <tr>\n",
       "      <th>1</th>\n",
       "      <td>295000</td>\n",
       "      <td>1.98</td>\n",
       "      <td>2</td>\n",
       "      <td>1</td>\n",
       "      <td>6185.0</td>\n",
       "      <td>1768</td>\n",
       "      <td>2.666667</td>\n",
       "      <td>2.0</td>\n",
       "      <td>4</td>\n",
       "    </tr>\n",
       "    <tr>\n",
       "      <th>2</th>\n",
       "      <td>256125</td>\n",
       "      <td>1.98</td>\n",
       "      <td>0</td>\n",
       "      <td>1</td>\n",
       "      <td>7840.0</td>\n",
       "      <td>1478</td>\n",
       "      <td>3.000000</td>\n",
       "      <td>2.0</td>\n",
       "      <td>3</td>\n",
       "    </tr>\n",
       "    <tr>\n",
       "      <th>3</th>\n",
       "      <td>240000</td>\n",
       "      <td>1.98</td>\n",
       "      <td>2</td>\n",
       "      <td>4</td>\n",
       "      <td>6098.0</td>\n",
       "      <td>1678</td>\n",
       "      <td>2.666667</td>\n",
       "      <td>2.0</td>\n",
       "      <td>3</td>\n",
       "    </tr>\n",
       "    <tr>\n",
       "      <th>4</th>\n",
       "      <td>239900</td>\n",
       "      <td>1.98</td>\n",
       "      <td>0</td>\n",
       "      <td>3</td>\n",
       "      <td>6708.0</td>\n",
       "      <td>2132</td>\n",
       "      <td>4.000000</td>\n",
       "      <td>3.0</td>\n",
       "      <td>3</td>\n",
       "    </tr>\n",
       "  </tbody>\n",
       "</table>\n",
       "</div>"
      ],
      "text/plain": [
       "   latestPrice  propertyTaxRate  garageSpaces  numPriceChanges  lotSizeSqFt  \\\n",
       "0       305000             1.98             2                5       6011.0   \n",
       "1       295000             1.98             2                1       6185.0   \n",
       "2       256125             1.98             0                1       7840.0   \n",
       "3       240000             1.98             2                4       6098.0   \n",
       "4       239900             1.98             0                3       6708.0   \n",
       "\n",
       "   livingAreaSqFt  avgSchoolRating  numOfBathrooms  numOfBedrooms  \n",
       "0            2601         2.666667             3.0              4  \n",
       "1            1768         2.666667             2.0              4  \n",
       "2            1478         3.000000             2.0              3  \n",
       "3            1678         2.666667             2.0              3  \n",
       "4            2132         4.000000             3.0              3  "
      ]
     },
     "execution_count": 3,
     "metadata": {},
     "output_type": "execute_result"
    }
   ],
   "source": [
    "df = pd.read_csv(Path('./austinHousingData_copy.csv'))\n",
    "df.head()"
   ]
  },
  {
   "cell_type": "code",
   "execution_count": 4,
   "id": "b31b8b88",
   "metadata": {},
   "outputs": [],
   "source": [
    "# if there are categorical variables, apply the getdummies or labelencoder method first here"
   ]
  },
  {
   "cell_type": "code",
   "execution_count": 5,
   "id": "2df358ba",
   "metadata": {},
   "outputs": [
    {
     "name": "stdout",
     "output_type": "stream",
     "text": [
      "<class 'pandas.core.frame.DataFrame'>\n",
      "RangeIndex: 15171 entries, 0 to 15170\n",
      "Data columns (total 9 columns):\n",
      " #   Column           Non-Null Count  Dtype  \n",
      "---  ------           --------------  -----  \n",
      " 0   latestPrice      15171 non-null  int64  \n",
      " 1   propertyTaxRate  15171 non-null  float64\n",
      " 2   garageSpaces     15171 non-null  int64  \n",
      " 3   numPriceChanges  15171 non-null  int64  \n",
      " 4   lotSizeSqFt      15171 non-null  float64\n",
      " 5   livingAreaSqFt   15171 non-null  int64  \n",
      " 6   avgSchoolRating  15171 non-null  float64\n",
      " 7   numOfBathrooms   15171 non-null  float64\n",
      " 8   numOfBedrooms    15171 non-null  int64  \n",
      "dtypes: float64(4), int64(5)\n",
      "memory usage: 1.0 MB\n"
     ]
    }
   ],
   "source": [
    "df.info()"
   ]
  },
  {
   "cell_type": "code",
   "execution_count": 6,
   "id": "7ca36207",
   "metadata": {},
   "outputs": [
    {
     "data": {
      "text/plain": [
       "1     5029\n",
       "2     3345\n",
       "3     2193\n",
       "4     1557\n",
       "5     1004\n",
       "6      688\n",
       "7      440\n",
       "8      297\n",
       "9      180\n",
       "10     136\n",
       "12      84\n",
       "11      81\n",
       "13      51\n",
       "14      33\n",
       "15      22\n",
       "16      11\n",
       "17       7\n",
       "18       5\n",
       "19       4\n",
       "22       2\n",
       "23       1\n",
       "20       1\n",
       "Name: numPriceChanges, dtype: int64"
      ]
     },
     "execution_count": 6,
     "metadata": {},
     "output_type": "execute_result"
    }
   ],
   "source": [
    "df.numPriceChanges.value_counts()"
   ]
  },
  {
   "cell_type": "code",
   "execution_count": 7,
   "id": "b02df8da",
   "metadata": {},
   "outputs": [
    {
     "data": {
      "image/png": "[encoded data removed]",
      "text/plain": [
       "<Figure size 432x288 with 1 Axes>"
      ]
     },
     "metadata": {
      "needs_background": "light"
     },
     "output_type": "display_data"
    }
   ],
   "source": [
    "# enter scatter plots before scaled here\n",
    "plt.bar(df.numPriceChanges, df.latestPrice)\n",
    "plt.xlabel('# Price Changes')\n",
    "plt.ylabel('Latest Home Price')\n",
    "plt.show()"
   ]
  },
  {
   "cell_type": "code",
   "execution_count": 8,
   "id": "05c4d9aa",
   "metadata": {},
   "outputs": [
    {
     "data": {
      "text/plain": [
       "array([[-0.458476  , -0.26524841,  0.57009709,  0.79085774, -0.0092287 ,\n",
       "         0.28485161, -1.673595  ,  0.30063214,  0.65844366],\n",
       "       [-0.48054276, -0.26524841,  0.57009709, -0.81730535, -0.0092145 ,\n",
       "        -0.31941495, -1.673595  , -0.6477652 ,  0.65844366],\n",
       "       [-0.56632727, -0.26524841, -0.90911326, -0.81730535, -0.00907942,\n",
       "        -0.52978387, -1.49440418, -0.6477652 , -0.5181463 ],\n",
       "       [-0.60190992, -0.26524841,  0.57009709,  0.38881697, -0.0092216 ,\n",
       "        -0.38470186, -1.673595  , -0.6477652 , -0.5181463 ],\n",
       "       [-0.60213058, -0.26524841, -0.90911326, -0.0132238 , -0.00917182,\n",
       "        -0.0553657 , -0.95683172,  0.30063214, -0.5181463 ]])"
      ]
     },
     "execution_count": 8,
     "metadata": {},
     "output_type": "execute_result"
    }
   ],
   "source": [
    "# scale the data\n",
    "data_scaler = StandardScaler()\n",
    "df_scaled = data_scaler.fit_transform(df)\n",
    "df_scaled[:5]"
   ]
  },
  {
   "cell_type": "code",
   "execution_count": 9,
   "id": "67740420",
   "metadata": {},
   "outputs": [
    {
     "data": {
      "text/plain": [
       "array([-0.458476  , -0.48054276, -0.56632727, ...,  0.79932907,\n",
       "       -0.20470831, -0.30422938])"
      ]
     },
     "execution_count": 9,
     "metadata": {},
     "output_type": "execute_result"
    }
   ],
   "source": [
    "df_scaled[:,0]"
   ]
  },
  {
   "cell_type": "code",
   "execution_count": 10,
   "id": "c659e82e",
   "metadata": {},
   "outputs": [
    {
     "data": {
      "image/png": "[encoded data removed]",
      "text/plain": [
       "<Figure size 432x288 with 1 Axes>"
      ]
     },
     "metadata": {
      "needs_background": "light"
     },
     "output_type": "display_data"
    }
   ],
   "source": [
    "# bar plot using scaled data\n",
    "plt.bar(df_scaled[:,3], df_scaled[:,0])\n",
    "plt.xlabel('# Price Changes')\n",
    "plt.ylabel('Latest Home Price')\n",
    "plt.show()"
   ]
  },
  {
   "cell_type": "code",
   "execution_count": null,
   "id": "d08ce872",
   "metadata": {},
   "outputs": [],
   "source": [
    "# Eventually add skatter plots of y vs. continuous variable (x) for multiple independent variables (scaled or unscaled)\n",
    "#plt.scatter(X, y)\n",
    "#plt.plot(X, y_pred, color='red')\n",
    "#plt.show()"
   ]
  },
  {
   "cell_type": "code",
   "execution_count": 11,
   "id": "60b68cb1",
   "metadata": {},
   "outputs": [
    {
     "data": {
      "text/html": [
       "<div>\n",
       "<style scoped>\n",
       "    .dataframe tbody tr th:only-of-type {\n",
       "        vertical-align: middle;\n",
       "    }\n",
       "\n",
       "    .dataframe tbody tr th {\n",
       "        vertical-align: top;\n",
       "    }\n",
       "\n",
       "    .dataframe thead th {\n",
       "        text-align: right;\n",
       "    }\n",
       "</style>\n",
       "<table border=\"1\" class=\"dataframe\">\n",
       "  <thead>\n",
       "    <tr style=\"text-align: right;\">\n",
       "      <th></th>\n",
       "      <th>propertyTaxRate</th>\n",
       "      <th>garageSpaces</th>\n",
       "      <th>numPriceChanges</th>\n",
       "      <th>lotSizeSqFt</th>\n",
       "      <th>livingAreaSqFt</th>\n",
       "      <th>avgSchoolRating</th>\n",
       "      <th>numOfBathrooms</th>\n",
       "      <th>numOfBedrooms</th>\n",
       "    </tr>\n",
       "  </thead>\n",
       "  <tbody>\n",
       "    <tr>\n",
       "      <th>0</th>\n",
       "      <td>1.98</td>\n",
       "      <td>2</td>\n",
       "      <td>5</td>\n",
       "      <td>6011.0</td>\n",
       "      <td>2601</td>\n",
       "      <td>2.666667</td>\n",
       "      <td>3.0</td>\n",
       "      <td>4</td>\n",
       "    </tr>\n",
       "    <tr>\n",
       "      <th>1</th>\n",
       "      <td>1.98</td>\n",
       "      <td>2</td>\n",
       "      <td>1</td>\n",
       "      <td>6185.0</td>\n",
       "      <td>1768</td>\n",
       "      <td>2.666667</td>\n",
       "      <td>2.0</td>\n",
       "      <td>4</td>\n",
       "    </tr>\n",
       "    <tr>\n",
       "      <th>2</th>\n",
       "      <td>1.98</td>\n",
       "      <td>0</td>\n",
       "      <td>1</td>\n",
       "      <td>7840.0</td>\n",
       "      <td>1478</td>\n",
       "      <td>3.000000</td>\n",
       "      <td>2.0</td>\n",
       "      <td>3</td>\n",
       "    </tr>\n",
       "  </tbody>\n",
       "</table>\n",
       "</div>"
      ],
      "text/plain": [
       "   propertyTaxRate  garageSpaces  numPriceChanges  lotSizeSqFt  \\\n",
       "0             1.98             2                5       6011.0   \n",
       "1             1.98             2                1       6185.0   \n",
       "2             1.98             0                1       7840.0   \n",
       "\n",
       "   livingAreaSqFt  avgSchoolRating  numOfBathrooms  numOfBedrooms  \n",
       "0            2601         2.666667             3.0              4  \n",
       "1            1768         2.666667             2.0              4  \n",
       "2            1478         3.000000             2.0              3  "
      ]
     },
     "execution_count": 11,
     "metadata": {},
     "output_type": "execute_result"
    }
   ],
   "source": [
    "# Check out M17.8.2 for setting y and X before ranking the variables by importance\n",
    "y = df.latestPrice\n",
    "X = df.copy()\n",
    "X = X.drop(\"latestPrice\", axis=1)\n",
    "X.head(3)"
   ]
  },
  {
   "cell_type": "code",
   "execution_count": 12,
   "id": "2b6c6a56",
   "metadata": {},
   "outputs": [],
   "source": [
    "#x train and x test (unscaled data)\n",
    "X_train, X_test, y_train, y_test = train_test_split(X, y)"
   ]
  },
  {
   "cell_type": "code",
   "execution_count": 13,
   "id": "6b487462",
   "metadata": {},
   "outputs": [],
   "source": [
    "# Creating a StandardScaler instance.\n",
    "scaler = StandardScaler()\n",
    "# Fitting the Standard Scaler with the training data.\n",
    "X_scaler = scaler.fit(X_train)\n",
    "\n",
    "# Scaling the data.\n",
    "X_train_scaled = X_scaler.transform(X_train)\n",
    "X_test_scaled = X_scaler.transform(X_test)\n"
   ]
  },
  {
   "cell_type": "code",
   "execution_count": 16,
   "id": "1bad80d8",
   "metadata": {},
   "outputs": [],
   "source": [
    "# M17.8.3 to create random forest classifier and then rank the variables\n",
    "# Create a random forest classifier.\n",
    "rf_model = RandomForestClassifier(n_estimators=128, random_state=78) "
   ]
  },
  {
   "cell_type": "code",
   "execution_count": 17,
   "id": "2cce6342",
   "metadata": {},
   "outputs": [],
   "source": [
    "# Fitting the model\n",
    "rf_model = rf_model.fit(X_train_scaled, y_train)"
   ]
  },
  {
   "cell_type": "code",
   "execution_count": 19,
   "id": "3cbd8c9b",
   "metadata": {},
   "outputs": [
    {
     "data": {
      "text/plain": [
       "array([280000, 350000, 390000, ..., 269900, 475000, 440000])"
      ]
     },
     "execution_count": 19,
     "metadata": {},
     "output_type": "execute_result"
    }
   ],
   "source": [
    "# Making predictions using the testing data.\n",
    "predictions = rf_model.predict(X_test_scaled)\n",
    "predictions"
   ]
  },
  {
   "cell_type": "code",
   "execution_count": 20,
   "id": "adeaf6d0",
   "metadata": {},
   "outputs": [
    {
     "ename": "NameError",
     "evalue": "name 'accuracy_score' is not defined",
     "output_type": "error",
     "traceback": [
      "\u001b[0;31m---------------------------------------------------------------------------\u001b[0m",
      "\u001b[0;31mNameError\u001b[0m                                 Traceback (most recent call last)",
      "\u001b[0;32m/var/folders/mz/05l5n9rn5gx0xswtzy0hdvqw0000gn/T/ipykernel_37267/3712944833.py\u001b[0m in \u001b[0;36m<module>\u001b[0;34m\u001b[0m\n\u001b[1;32m      1\u001b[0m \u001b[0;31m# Calculating the accuracy score.\u001b[0m\u001b[0;34m\u001b[0m\u001b[0;34m\u001b[0m\u001b[0;34m\u001b[0m\u001b[0m\n\u001b[0;32m----> 2\u001b[0;31m \u001b[0macc_score\u001b[0m \u001b[0;34m=\u001b[0m \u001b[0maccuracy_score\u001b[0m\u001b[0;34m(\u001b[0m\u001b[0my_test\u001b[0m\u001b[0;34m,\u001b[0m \u001b[0mpredictions\u001b[0m\u001b[0;34m)\u001b[0m\u001b[0;34m\u001b[0m\u001b[0;34m\u001b[0m\u001b[0m\n\u001b[0m",
      "\u001b[0;31mNameError\u001b[0m: name 'accuracy_score' is not defined"
     ]
    }
   ],
   "source": [
    "# Calculating the accuracy score. WHAT IS THE BEST WAY OR WAYS TO EVALUATE THE ACCURACY OF A RANDOM FOREST CLASSIFIER...\n",
    "# ... ON A REGRESSION MODEL??\n",
    "acc_score = accuracy_score(y_test, predictions)"
   ]
  },
  {
   "cell_type": "code",
   "execution_count": 21,
   "id": "3c55678e",
   "metadata": {},
   "outputs": [
    {
     "data": {
      "text/plain": [
       "array([0.013771  , 0.07227582, 0.12359945, 0.26758064, 0.28681419,\n",
       "       0.1346626 , 0.0507913 , 0.050505  ])"
      ]
     },
     "execution_count": 21,
     "metadata": {},
     "output_type": "execute_result"
    }
   ],
   "source": [
    "# Calculate feature importance in the Random Forest model. HOW DO WE KNOW IF ACCURATE?\n",
    "importances = rf_model.feature_importances_\n",
    "importances"
   ]
  },
  {
   "cell_type": "code",
   "execution_count": null,
   "id": "7a53dcc9",
   "metadata": {},
   "outputs": [],
   "source": []
  },
  {
   "cell_type": "code",
   "execution_count": null,
   "id": "437bac7b",
   "metadata": {},
   "outputs": [],
   "source": [
    "model = LinearRegression()\n",
    "model.fit(X, y)\n",
    "model = model.fit(X_train, y_train)"
   ]
  },
  {
   "cell_type": "code",
   "execution_count": null,
   "id": "a645c020",
   "metadata": {},
   "outputs": [],
   "source": [
    "# Making predictions using the testing data.\n",
    "predictions = model.predict(X_test)"
   ]
  },
  {
   "cell_type": "code",
   "execution_count": null,
   "id": "d744b25a",
   "metadata": {},
   "outputs": [],
   "source": [
    "y_pred = model.predict(X)\n",
    "print(y_pred.shape)"
   ]
  },
  {
   "cell_type": "code",
   "execution_count": null,
   "id": "1c92c61f",
   "metadata": {},
   "outputs": [],
   "source": [
    "# explained variance score\n",
    "print('Explained Variance Score of model is {}'.format(evs(y_test, predictions)))\n",
    "\n",
    "# R-squared\n",
    "print('R-Squared value of model is {}'.format(r2(y_test, predictions)))"
   ]
  },
  {
   "cell_type": "code",
   "execution_count": null,
   "id": "3d734248",
   "metadata": {},
   "outputs": [],
   "source": []
  }
 ],
 "metadata": {
  "kernelspec": {
   "display_name": "mlenv",
   "language": "python",
   "name": "mlenv"
  },
  "language_info": {
   "codemirror_mode": {
    "name": "ipython",
    "version": 3
   },
   "file_extension": ".py",
   "mimetype": "text/x-python",
   "name": "python",
   "nbconvert_exporter": "python",
   "pygments_lexer": "ipython3",
   "version": "3.7.13"
  }
 },
 "nbformat": 4,
 "nbformat_minor": 5
}
