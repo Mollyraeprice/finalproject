{
 "cells": [
  {
   "cell_type": "markdown",
   "id": "c4a8ce7f",
   "metadata": {},
   "source": [
    "# Machine Learning Deliverable 1"
   ]
  },
  {
   "cell_type": "code",
   "execution_count": 1,
   "id": "5a6c44be",
   "metadata": {},
   "outputs": [],
   "source": [
    "# import dependencies\n",
    "import pandas as pd\n",
    "import numpy as np\n",
    "from pathlib import Path\n",
    "import matplotlib.pyplot as plt\n",
    "from sklearn.linear_model import LinearRegression\n",
    "from sklearn.ensemble import RandomForestClassifier, RandomForestRegressor\n",
    "from sklearn.preprocessing import StandardScaler\n",
    "from sklearn.model_selection import train_test_split\n",
    "from sklearn.metrics import explained_variance_score as evs # evaluation metric\n",
    "from sklearn.metrics import r2_score as r2 # evaluation metric\n",
    "from sklearn import metrics\n",
    "#from sklearn.metrics import score"
   ]
  },
  {
   "cell_type": "code",
   "execution_count": 2,
   "id": "ee300f33",
   "metadata": {},
   "outputs": [
    {
     "data": {
      "text/html": [
       "<div>\n",
       "<style scoped>\n",
       "    .dataframe tbody tr th:only-of-type {\n",
       "        vertical-align: middle;\n",
       "    }\n",
       "\n",
       "    .dataframe tbody tr th {\n",
       "        vertical-align: top;\n",
       "    }\n",
       "\n",
       "    .dataframe thead th {\n",
       "        text-align: right;\n",
       "    }\n",
       "</style>\n",
       "<table border=\"1\" class=\"dataframe\">\n",
       "  <thead>\n",
       "    <tr style=\"text-align: right;\">\n",
       "      <th></th>\n",
       "      <th>latestPrice</th>\n",
       "      <th>propertyTaxRate</th>\n",
       "      <th>garageSpaces</th>\n",
       "      <th>numPriceChanges</th>\n",
       "      <th>lotSizeSqFt</th>\n",
       "      <th>livingAreaSqFt</th>\n",
       "      <th>avgSchoolRating</th>\n",
       "      <th>numOfBathrooms</th>\n",
       "      <th>numOfBedrooms</th>\n",
       "    </tr>\n",
       "  </thead>\n",
       "  <tbody>\n",
       "    <tr>\n",
       "      <th>0</th>\n",
       "      <td>305000</td>\n",
       "      <td>1.98</td>\n",
       "      <td>2</td>\n",
       "      <td>5</td>\n",
       "      <td>6011.0</td>\n",
       "      <td>2601</td>\n",
       "      <td>2.666667</td>\n",
       "      <td>3.0</td>\n",
       "      <td>4</td>\n",
       "    </tr>\n",
       "    <tr>\n",
       "      <th>1</th>\n",
       "      <td>295000</td>\n",
       "      <td>1.98</td>\n",
       "      <td>2</td>\n",
       "      <td>1</td>\n",
       "      <td>6185.0</td>\n",
       "      <td>1768</td>\n",
       "      <td>2.666667</td>\n",
       "      <td>2.0</td>\n",
       "      <td>4</td>\n",
       "    </tr>\n",
       "    <tr>\n",
       "      <th>2</th>\n",
       "      <td>256125</td>\n",
       "      <td>1.98</td>\n",
       "      <td>0</td>\n",
       "      <td>1</td>\n",
       "      <td>7840.0</td>\n",
       "      <td>1478</td>\n",
       "      <td>3.000000</td>\n",
       "      <td>2.0</td>\n",
       "      <td>3</td>\n",
       "    </tr>\n",
       "    <tr>\n",
       "      <th>3</th>\n",
       "      <td>240000</td>\n",
       "      <td>1.98</td>\n",
       "      <td>2</td>\n",
       "      <td>4</td>\n",
       "      <td>6098.0</td>\n",
       "      <td>1678</td>\n",
       "      <td>2.666667</td>\n",
       "      <td>2.0</td>\n",
       "      <td>3</td>\n",
       "    </tr>\n",
       "    <tr>\n",
       "      <th>4</th>\n",
       "      <td>239900</td>\n",
       "      <td>1.98</td>\n",
       "      <td>0</td>\n",
       "      <td>3</td>\n",
       "      <td>6708.0</td>\n",
       "      <td>2132</td>\n",
       "      <td>4.000000</td>\n",
       "      <td>3.0</td>\n",
       "      <td>3</td>\n",
       "    </tr>\n",
       "  </tbody>\n",
       "</table>\n",
       "</div>"
      ],
      "text/plain": [
       "   latestPrice  propertyTaxRate  garageSpaces  numPriceChanges  lotSizeSqFt  \\\n",
       "0       305000             1.98             2                5       6011.0   \n",
       "1       295000             1.98             2                1       6185.0   \n",
       "2       256125             1.98             0                1       7840.0   \n",
       "3       240000             1.98             2                4       6098.0   \n",
       "4       239900             1.98             0                3       6708.0   \n",
       "\n",
       "   livingAreaSqFt  avgSchoolRating  numOfBathrooms  numOfBedrooms  \n",
       "0            2601         2.666667             3.0              4  \n",
       "1            1768         2.666667             2.0              4  \n",
       "2            1478         3.000000             2.0              3  \n",
       "3            1678         2.666667             2.0              3  \n",
       "4            2132         4.000000             3.0              3  "
      ]
     },
     "execution_count": 2,
     "metadata": {},
     "output_type": "execute_result"
    }
   ],
   "source": [
    "# load csv of subset of data\n",
    "df = pd.read_csv(Path('./austinHousingData_copy.csv'))\n",
    "df.head()"
   ]
  },
  {
   "cell_type": "code",
   "execution_count": 3,
   "id": "2df358ba",
   "metadata": {},
   "outputs": [
    {
     "name": "stdout",
     "output_type": "stream",
     "text": [
      "<class 'pandas.core.frame.DataFrame'>\n",
      "RangeIndex: 15171 entries, 0 to 15170\n",
      "Data columns (total 9 columns):\n",
      " #   Column           Non-Null Count  Dtype  \n",
      "---  ------           --------------  -----  \n",
      " 0   latestPrice      15171 non-null  int64  \n",
      " 1   propertyTaxRate  15171 non-null  float64\n",
      " 2   garageSpaces     15171 non-null  int64  \n",
      " 3   numPriceChanges  15171 non-null  int64  \n",
      " 4   lotSizeSqFt      15171 non-null  float64\n",
      " 5   livingAreaSqFt   15171 non-null  int64  \n",
      " 6   avgSchoolRating  15171 non-null  float64\n",
      " 7   numOfBathrooms   15171 non-null  float64\n",
      " 8   numOfBedrooms    15171 non-null  int64  \n",
      "dtypes: float64(4), int64(5)\n",
      "memory usage: 1.0 MB\n"
     ]
    }
   ],
   "source": [
    "df.info()"
   ]
  },
  {
   "cell_type": "code",
   "execution_count": 4,
   "id": "94dfefc6",
   "metadata": {},
   "outputs": [],
   "source": [
    "# placeholder for getdummies or labelencoder method for categorical variables in future deliverable\n"
   ]
  },
  {
   "cell_type": "code",
   "execution_count": 5,
   "id": "9233f651",
   "metadata": {},
   "outputs": [
    {
     "data": {
      "text/html": [
       "<div>\n",
       "<style scoped>\n",
       "    .dataframe tbody tr th:only-of-type {\n",
       "        vertical-align: middle;\n",
       "    }\n",
       "\n",
       "    .dataframe tbody tr th {\n",
       "        vertical-align: top;\n",
       "    }\n",
       "\n",
       "    .dataframe thead th {\n",
       "        text-align: right;\n",
       "    }\n",
       "</style>\n",
       "<table border=\"1\" class=\"dataframe\">\n",
       "  <thead>\n",
       "    <tr style=\"text-align: right;\">\n",
       "      <th></th>\n",
       "      <th>latestPrice</th>\n",
       "      <th>propertyTaxRate</th>\n",
       "      <th>garageSpaces</th>\n",
       "      <th>numPriceChanges</th>\n",
       "      <th>lotSizeSqFt</th>\n",
       "      <th>livingAreaSqFt</th>\n",
       "      <th>avgSchoolRating</th>\n",
       "      <th>numOfBathrooms</th>\n",
       "      <th>numOfBedrooms</th>\n",
       "    </tr>\n",
       "  </thead>\n",
       "  <tbody>\n",
       "    <tr>\n",
       "      <th>count</th>\n",
       "      <td>1.517100e+04</td>\n",
       "      <td>15171.000000</td>\n",
       "      <td>15171.000000</td>\n",
       "      <td>15171.000000</td>\n",
       "      <td>1.517100e+04</td>\n",
       "      <td>15171.000000</td>\n",
       "      <td>15171.000000</td>\n",
       "      <td>15171.000000</td>\n",
       "      <td>15171.000000</td>\n",
       "    </tr>\n",
       "    <tr>\n",
       "      <th>mean</th>\n",
       "      <td>5.127677e+05</td>\n",
       "      <td>1.994085</td>\n",
       "      <td>1.229187</td>\n",
       "      <td>3.032892</td>\n",
       "      <td>1.190840e+05</td>\n",
       "      <td>2208.323314</td>\n",
       "      <td>5.779912</td>\n",
       "      <td>2.683010</td>\n",
       "      <td>3.440380</td>\n",
       "    </tr>\n",
       "    <tr>\n",
       "      <th>std</th>\n",
       "      <td>4.531853e+05</td>\n",
       "      <td>0.053102</td>\n",
       "      <td>1.352117</td>\n",
       "      <td>2.487392</td>\n",
       "      <td>1.225272e+07</td>\n",
       "      <td>1378.576119</td>\n",
       "      <td>1.860276</td>\n",
       "      <td>1.054445</td>\n",
       "      <td>0.849942</td>\n",
       "    </tr>\n",
       "    <tr>\n",
       "      <th>min</th>\n",
       "      <td>5.500000e+03</td>\n",
       "      <td>1.980000</td>\n",
       "      <td>0.000000</td>\n",
       "      <td>1.000000</td>\n",
       "      <td>1.000000e+02</td>\n",
       "      <td>300.000000</td>\n",
       "      <td>2.333333</td>\n",
       "      <td>0.000000</td>\n",
       "      <td>0.000000</td>\n",
       "    </tr>\n",
       "    <tr>\n",
       "      <th>25%</th>\n",
       "      <td>3.090000e+05</td>\n",
       "      <td>1.980000</td>\n",
       "      <td>0.000000</td>\n",
       "      <td>1.000000</td>\n",
       "      <td>6.534000e+03</td>\n",
       "      <td>1483.000000</td>\n",
       "      <td>4.000000</td>\n",
       "      <td>2.000000</td>\n",
       "      <td>3.000000</td>\n",
       "    </tr>\n",
       "    <tr>\n",
       "      <th>50%</th>\n",
       "      <td>4.050000e+05</td>\n",
       "      <td>1.980000</td>\n",
       "      <td>1.000000</td>\n",
       "      <td>2.000000</td>\n",
       "      <td>8.276000e+03</td>\n",
       "      <td>1975.000000</td>\n",
       "      <td>5.778694</td>\n",
       "      <td>3.000000</td>\n",
       "      <td>3.000000</td>\n",
       "    </tr>\n",
       "    <tr>\n",
       "      <th>75%</th>\n",
       "      <td>5.750000e+05</td>\n",
       "      <td>1.980000</td>\n",
       "      <td>2.000000</td>\n",
       "      <td>4.000000</td>\n",
       "      <td>1.089000e+04</td>\n",
       "      <td>2687.000000</td>\n",
       "      <td>7.000000</td>\n",
       "      <td>3.000000</td>\n",
       "      <td>4.000000</td>\n",
       "    </tr>\n",
       "    <tr>\n",
       "      <th>max</th>\n",
       "      <td>1.350000e+07</td>\n",
       "      <td>2.210000</td>\n",
       "      <td>22.000000</td>\n",
       "      <td>23.000000</td>\n",
       "      <td>1.508483e+09</td>\n",
       "      <td>109292.000000</td>\n",
       "      <td>9.500000</td>\n",
       "      <td>27.000000</td>\n",
       "      <td>20.000000</td>\n",
       "    </tr>\n",
       "  </tbody>\n",
       "</table>\n",
       "</div>"
      ],
      "text/plain": [
       "        latestPrice  propertyTaxRate  garageSpaces  numPriceChanges  \\\n",
       "count  1.517100e+04     15171.000000  15171.000000     15171.000000   \n",
       "mean   5.127677e+05         1.994085      1.229187         3.032892   \n",
       "std    4.531853e+05         0.053102      1.352117         2.487392   \n",
       "min    5.500000e+03         1.980000      0.000000         1.000000   \n",
       "25%    3.090000e+05         1.980000      0.000000         1.000000   \n",
       "50%    4.050000e+05         1.980000      1.000000         2.000000   \n",
       "75%    5.750000e+05         1.980000      2.000000         4.000000   \n",
       "max    1.350000e+07         2.210000     22.000000        23.000000   \n",
       "\n",
       "        lotSizeSqFt  livingAreaSqFt  avgSchoolRating  numOfBathrooms  \\\n",
       "count  1.517100e+04    15171.000000     15171.000000    15171.000000   \n",
       "mean   1.190840e+05     2208.323314         5.779912        2.683010   \n",
       "std    1.225272e+07     1378.576119         1.860276        1.054445   \n",
       "min    1.000000e+02      300.000000         2.333333        0.000000   \n",
       "25%    6.534000e+03     1483.000000         4.000000        2.000000   \n",
       "50%    8.276000e+03     1975.000000         5.778694        3.000000   \n",
       "75%    1.089000e+04     2687.000000         7.000000        3.000000   \n",
       "max    1.508483e+09   109292.000000         9.500000       27.000000   \n",
       "\n",
       "       numOfBedrooms  \n",
       "count   15171.000000  \n",
       "mean        3.440380  \n",
       "std         0.849942  \n",
       "min         0.000000  \n",
       "25%         3.000000  \n",
       "50%         3.000000  \n",
       "75%         4.000000  \n",
       "max        20.000000  "
      ]
     },
     "execution_count": 5,
     "metadata": {},
     "output_type": "execute_result"
    }
   ],
   "source": [
    "df.describe()"
   ]
  },
  {
   "cell_type": "code",
   "execution_count": 6,
   "id": "e93577b8",
   "metadata": {},
   "outputs": [
    {
     "data": {
      "text/plain": [
       "<AxesSubplot:>"
      ]
     },
     "execution_count": 6,
     "metadata": {},
     "output_type": "execute_result"
    },
    {
     "data": {
      "image/png": "[encoded data removed]",
      "text/plain": [
       "<Figure size 432x288 with 1 Axes>"
      ]
     },
     "metadata": {
      "needs_background": "light"
     },
     "output_type": "display_data"
    }
   ],
   "source": [
    "# Either do a histogram of housing prices and make BINS and/or do a box plot of housing prices to find outliers \n",
    "df.boxplot(column='latestPrice')"
   ]
  },
  {
   "cell_type": "code",
   "execution_count": 7,
   "id": "88314263",
   "metadata": {},
   "outputs": [
    {
     "data": {
      "text/html": [
       "<div>\n",
       "<style scoped>\n",
       "    .dataframe tbody tr th:only-of-type {\n",
       "        vertical-align: middle;\n",
       "    }\n",
       "\n",
       "    .dataframe tbody tr th {\n",
       "        vertical-align: top;\n",
       "    }\n",
       "\n",
       "    .dataframe thead th {\n",
       "        text-align: right;\n",
       "    }\n",
       "</style>\n",
       "<table border=\"1\" class=\"dataframe\">\n",
       "  <thead>\n",
       "    <tr style=\"text-align: right;\">\n",
       "      <th></th>\n",
       "      <th>latestPrice</th>\n",
       "      <th>propertyTaxRate</th>\n",
       "      <th>garageSpaces</th>\n",
       "      <th>numPriceChanges</th>\n",
       "      <th>lotSizeSqFt</th>\n",
       "      <th>livingAreaSqFt</th>\n",
       "      <th>avgSchoolRating</th>\n",
       "      <th>numOfBathrooms</th>\n",
       "      <th>numOfBedrooms</th>\n",
       "    </tr>\n",
       "    <tr>\n",
       "      <th>latestPrice</th>\n",
       "      <th></th>\n",
       "      <th></th>\n",
       "      <th></th>\n",
       "      <th></th>\n",
       "      <th></th>\n",
       "      <th></th>\n",
       "      <th></th>\n",
       "      <th></th>\n",
       "      <th></th>\n",
       "    </tr>\n",
       "  </thead>\n",
       "  <tbody>\n",
       "    <tr>\n",
       "      <th>(0, 50000]</th>\n",
       "      <td>14</td>\n",
       "      <td>14</td>\n",
       "      <td>14</td>\n",
       "      <td>14</td>\n",
       "      <td>14</td>\n",
       "      <td>14</td>\n",
       "      <td>14</td>\n",
       "      <td>14</td>\n",
       "      <td>14</td>\n",
       "    </tr>\n",
       "    <tr>\n",
       "      <th>(50000, 100000]</th>\n",
       "      <td>48</td>\n",
       "      <td>48</td>\n",
       "      <td>48</td>\n",
       "      <td>48</td>\n",
       "      <td>48</td>\n",
       "      <td>48</td>\n",
       "      <td>48</td>\n",
       "      <td>48</td>\n",
       "      <td>48</td>\n",
       "    </tr>\n",
       "    <tr>\n",
       "      <th>(100000, 300000]</th>\n",
       "      <td>3638</td>\n",
       "      <td>3638</td>\n",
       "      <td>3638</td>\n",
       "      <td>3638</td>\n",
       "      <td>3638</td>\n",
       "      <td>3638</td>\n",
       "      <td>3638</td>\n",
       "      <td>3638</td>\n",
       "      <td>3638</td>\n",
       "    </tr>\n",
       "    <tr>\n",
       "      <th>(300000, 500000]</th>\n",
       "      <td>6624</td>\n",
       "      <td>6624</td>\n",
       "      <td>6624</td>\n",
       "      <td>6624</td>\n",
       "      <td>6624</td>\n",
       "      <td>6624</td>\n",
       "      <td>6624</td>\n",
       "      <td>6624</td>\n",
       "      <td>6624</td>\n",
       "    </tr>\n",
       "    <tr>\n",
       "      <th>(500000, 750000]</th>\n",
       "      <td>2953</td>\n",
       "      <td>2953</td>\n",
       "      <td>2953</td>\n",
       "      <td>2953</td>\n",
       "      <td>2953</td>\n",
       "      <td>2953</td>\n",
       "      <td>2953</td>\n",
       "      <td>2953</td>\n",
       "      <td>2953</td>\n",
       "    </tr>\n",
       "    <tr>\n",
       "      <th>(750000, 1000000]</th>\n",
       "      <td>952</td>\n",
       "      <td>952</td>\n",
       "      <td>952</td>\n",
       "      <td>952</td>\n",
       "      <td>952</td>\n",
       "      <td>952</td>\n",
       "      <td>952</td>\n",
       "      <td>952</td>\n",
       "      <td>952</td>\n",
       "    </tr>\n",
       "    <tr>\n",
       "      <th>(1000000, 2000000]</th>\n",
       "      <td>753</td>\n",
       "      <td>753</td>\n",
       "      <td>753</td>\n",
       "      <td>753</td>\n",
       "      <td>753</td>\n",
       "      <td>753</td>\n",
       "      <td>753</td>\n",
       "      <td>753</td>\n",
       "      <td>753</td>\n",
       "    </tr>\n",
       "    <tr>\n",
       "      <th>(2000000, 3000000]</th>\n",
       "      <td>121</td>\n",
       "      <td>121</td>\n",
       "      <td>121</td>\n",
       "      <td>121</td>\n",
       "      <td>121</td>\n",
       "      <td>121</td>\n",
       "      <td>121</td>\n",
       "      <td>121</td>\n",
       "      <td>121</td>\n",
       "    </tr>\n",
       "    <tr>\n",
       "      <th>(3000000, 4000000]</th>\n",
       "      <td>48</td>\n",
       "      <td>48</td>\n",
       "      <td>48</td>\n",
       "      <td>48</td>\n",
       "      <td>48</td>\n",
       "      <td>48</td>\n",
       "      <td>48</td>\n",
       "      <td>48</td>\n",
       "      <td>48</td>\n",
       "    </tr>\n",
       "    <tr>\n",
       "      <th>(4000000, 5000000]</th>\n",
       "      <td>8</td>\n",
       "      <td>8</td>\n",
       "      <td>8</td>\n",
       "      <td>8</td>\n",
       "      <td>8</td>\n",
       "      <td>8</td>\n",
       "      <td>8</td>\n",
       "      <td>8</td>\n",
       "      <td>8</td>\n",
       "    </tr>\n",
       "    <tr>\n",
       "      <th>(5000000, 7500000]</th>\n",
       "      <td>5</td>\n",
       "      <td>5</td>\n",
       "      <td>5</td>\n",
       "      <td>5</td>\n",
       "      <td>5</td>\n",
       "      <td>5</td>\n",
       "      <td>5</td>\n",
       "      <td>5</td>\n",
       "      <td>5</td>\n",
       "    </tr>\n",
       "    <tr>\n",
       "      <th>(7500000, 10000000]</th>\n",
       "      <td>4</td>\n",
       "      <td>4</td>\n",
       "      <td>4</td>\n",
       "      <td>4</td>\n",
       "      <td>4</td>\n",
       "      <td>4</td>\n",
       "      <td>4</td>\n",
       "      <td>4</td>\n",
       "      <td>4</td>\n",
       "    </tr>\n",
       "    <tr>\n",
       "      <th>(10000000, 15000000]</th>\n",
       "      <td>3</td>\n",
       "      <td>3</td>\n",
       "      <td>3</td>\n",
       "      <td>3</td>\n",
       "      <td>3</td>\n",
       "      <td>3</td>\n",
       "      <td>3</td>\n",
       "      <td>3</td>\n",
       "      <td>3</td>\n",
       "    </tr>\n",
       "  </tbody>\n",
       "</table>\n",
       "</div>"
      ],
      "text/plain": [
       "                      latestPrice  propertyTaxRate  garageSpaces  \\\n",
       "latestPrice                                                        \n",
       "(0, 50000]                     14               14            14   \n",
       "(50000, 100000]                48               48            48   \n",
       "(100000, 300000]             3638             3638          3638   \n",
       "(300000, 500000]             6624             6624          6624   \n",
       "(500000, 750000]             2953             2953          2953   \n",
       "(750000, 1000000]             952              952           952   \n",
       "(1000000, 2000000]            753              753           753   \n",
       "(2000000, 3000000]            121              121           121   \n",
       "(3000000, 4000000]             48               48            48   \n",
       "(4000000, 5000000]              8                8             8   \n",
       "(5000000, 7500000]              5                5             5   \n",
       "(7500000, 10000000]             4                4             4   \n",
       "(10000000, 15000000]            3                3             3   \n",
       "\n",
       "                      numPriceChanges  lotSizeSqFt  livingAreaSqFt  \\\n",
       "latestPrice                                                          \n",
       "(0, 50000]                         14           14              14   \n",
       "(50000, 100000]                    48           48              48   \n",
       "(100000, 300000]                 3638         3638            3638   \n",
       "(300000, 500000]                 6624         6624            6624   \n",
       "(500000, 750000]                 2953         2953            2953   \n",
       "(750000, 1000000]                 952          952             952   \n",
       "(1000000, 2000000]                753          753             753   \n",
       "(2000000, 3000000]                121          121             121   \n",
       "(3000000, 4000000]                 48           48              48   \n",
       "(4000000, 5000000]                  8            8               8   \n",
       "(5000000, 7500000]                  5            5               5   \n",
       "(7500000, 10000000]                 4            4               4   \n",
       "(10000000, 15000000]                3            3               3   \n",
       "\n",
       "                      avgSchoolRating  numOfBathrooms  numOfBedrooms  \n",
       "latestPrice                                                           \n",
       "(0, 50000]                         14              14             14  \n",
       "(50000, 100000]                    48              48             48  \n",
       "(100000, 300000]                 3638            3638           3638  \n",
       "(300000, 500000]                 6624            6624           6624  \n",
       "(500000, 750000]                 2953            2953           2953  \n",
       "(750000, 1000000]                 952             952            952  \n",
       "(1000000, 2000000]                753             753            753  \n",
       "(2000000, 3000000]                121             121            121  \n",
       "(3000000, 4000000]                 48              48             48  \n",
       "(4000000, 5000000]                  8               8              8  \n",
       "(5000000, 7500000]                  5               5              5  \n",
       "(7500000, 10000000]                 4               4              4  \n",
       "(10000000, 15000000]                3               3              3  "
      ]
     },
     "execution_count": 7,
     "metadata": {},
     "output_type": "execute_result"
    }
   ],
   "source": [
    "# Cut the df into bins for latest price (bins of home price).\n",
    "spending_bins = [0, 50000, 100000, 300000, 500000,750000,1000000,2000000,3000000,4000000,5000000,7500000,10000000,15000000]\n",
    "df.groupby(pd.cut(df.latestPrice, spending_bins)).count()"
   ]
  },
  {
   "cell_type": "code",
   "execution_count": 8,
   "id": "c1b93c0d",
   "metadata": {},
   "outputs": [
    {
     "data": {
      "text/plain": [
       "array([[<AxesSubplot:title={'center':'latestPrice'}>]], dtype=object)"
      ]
     },
     "execution_count": 8,
     "metadata": {},
     "output_type": "execute_result"
    },
    {
     "data": {
      "image/png": "[encoded data removed]",
      "text/plain": [
       "<Figure size 432x288 with 1 Axes>"
      ]
     },
     "metadata": {
      "needs_background": "light"
     },
     "output_type": "display_data"
    }
   ],
   "source": [
    "spending_bins2 = [0, 50000, 100000, 300000, 500000,750000,1000000,2000000]\n",
    "df.hist(column='latestPrice', bins=spending_bins2)"
   ]
  },
  {
   "cell_type": "code",
   "execution_count": 9,
   "id": "2d2a8bfb",
   "metadata": {},
   "outputs": [],
   "source": [
    "#df.numPriceChanges.value_counts()"
   ]
  },
  {
   "cell_type": "code",
   "execution_count": 10,
   "id": "b29969e0",
   "metadata": {},
   "outputs": [],
   "source": [
    "# enter scatter plots before scaled here\n",
    "#plt.bar(df.numPriceChanges, df.latestPrice)\n",
    "#plt.xlabel('# Price Changes')\n",
    "#plt.ylabel('Latest Home Price')\n",
    "#plt.show()"
   ]
  },
  {
   "cell_type": "code",
   "execution_count": 11,
   "id": "05c4d9aa",
   "metadata": {},
   "outputs": [],
   "source": [
    "# scale the data\n",
    "#data_scaler = StandardScaler()\n",
    "#df_scaled = data_scaler.fit_transform(df)\n",
    "#df_scaled[:5]"
   ]
  },
  {
   "cell_type": "code",
   "execution_count": 12,
   "id": "cdeea4c0",
   "metadata": {},
   "outputs": [],
   "source": [
    "#df_scaled[:,0]"
   ]
  },
  {
   "cell_type": "code",
   "execution_count": 13,
   "id": "c659e82e",
   "metadata": {},
   "outputs": [],
   "source": [
    "# bar plot using scaled data\n",
    "#plt.bar(df_scaled[:,3], df_scaled[:,0])\n",
    "#plt.xlabel('# Price Changes')\n",
    "#plt.ylabel('Latest Home Price')\n",
    "#plt.show()"
   ]
  },
  {
   "cell_type": "code",
   "execution_count": 14,
   "id": "a8e35559",
   "metadata": {},
   "outputs": [],
   "source": [
    "# Eventually add skatter plots of y vs. continuous variable (x) for multiple independent variables (scaled or unscaled)\n",
    "#plt.scatter(X, y)\n",
    "#plt.plot(X, y_pred, color='red')\n",
    "#plt.show()"
   ]
  },
  {
   "cell_type": "code",
   "execution_count": 15,
   "id": "ff446035",
   "metadata": {},
   "outputs": [],
   "source": [
    "#housing_df = df.loc[(df.latestPrice >=100000) & (df.latestPrice < 3000000)]\n",
    "#len(housing_df)"
   ]
  },
  {
   "cell_type": "code",
   "execution_count": 16,
   "id": "c737fa96",
   "metadata": {},
   "outputs": [
    {
     "data": {
      "text/plain": [
       "15041"
      ]
     },
     "execution_count": 16,
     "metadata": {},
     "output_type": "execute_result"
    }
   ],
   "source": [
    "housing_df = df[df['latestPrice'].between(100000, 3000000,inclusive='right')]\n",
    "len(housing_df)"
   ]
  },
  {
   "cell_type": "markdown",
   "id": "5076bf1b",
   "metadata": {},
   "source": [
    "## Test using Random Forest Regressor on scaled housing data"
   ]
  },
  {
   "cell_type": "code",
   "execution_count": 17,
   "id": "877f9442",
   "metadata": {},
   "outputs": [
    {
     "data": {
      "text/html": [
       "<div>\n",
       "<style scoped>\n",
       "    .dataframe tbody tr th:only-of-type {\n",
       "        vertical-align: middle;\n",
       "    }\n",
       "\n",
       "    .dataframe tbody tr th {\n",
       "        vertical-align: top;\n",
       "    }\n",
       "\n",
       "    .dataframe thead th {\n",
       "        text-align: right;\n",
       "    }\n",
       "</style>\n",
       "<table border=\"1\" class=\"dataframe\">\n",
       "  <thead>\n",
       "    <tr style=\"text-align: right;\">\n",
       "      <th></th>\n",
       "      <th>lotSizeSqFt</th>\n",
       "      <th>livingAreaSqFt</th>\n",
       "      <th>avgSchoolRating</th>\n",
       "      <th>numOfBathrooms</th>\n",
       "    </tr>\n",
       "  </thead>\n",
       "  <tbody>\n",
       "    <tr>\n",
       "      <th>0</th>\n",
       "      <td>6011.0</td>\n",
       "      <td>2601</td>\n",
       "      <td>2.666667</td>\n",
       "      <td>3.0</td>\n",
       "    </tr>\n",
       "    <tr>\n",
       "      <th>1</th>\n",
       "      <td>6185.0</td>\n",
       "      <td>1768</td>\n",
       "      <td>2.666667</td>\n",
       "      <td>2.0</td>\n",
       "    </tr>\n",
       "    <tr>\n",
       "      <th>2</th>\n",
       "      <td>7840.0</td>\n",
       "      <td>1478</td>\n",
       "      <td>3.000000</td>\n",
       "      <td>2.0</td>\n",
       "    </tr>\n",
       "  </tbody>\n",
       "</table>\n",
       "</div>"
      ],
      "text/plain": [
       "   lotSizeSqFt  livingAreaSqFt  avgSchoolRating  numOfBathrooms\n",
       "0       6011.0            2601         2.666667             3.0\n",
       "1       6185.0            1768         2.666667             2.0\n",
       "2       7840.0            1478         3.000000             2.0"
      ]
     },
     "execution_count": 17,
     "metadata": {},
     "output_type": "execute_result"
    }
   ],
   "source": [
    "# Define the features (X) and target (y) set\n",
    "y = housing_df.latestPrice\n",
    "X = housing_df.copy()\n",
    "X = X.drop(['latestPrice','propertyTaxRate','garageSpaces','numPriceChanges','numOfBedrooms'], axis=1)\n",
    "X.head(3)"
   ]
  },
  {
   "cell_type": "code",
   "execution_count": 18,
   "id": "9d98ace4",
   "metadata": {},
   "outputs": [],
   "source": [
    "#x train and x test (unscaled data)\n",
    "X_train, X_test, y_train, y_test = train_test_split(X, y)"
   ]
  },
  {
   "cell_type": "code",
   "execution_count": 19,
   "id": "890c4f24",
   "metadata": {},
   "outputs": [],
   "source": [
    "# Creating a StandardScaler instance.\n",
    "scaler = StandardScaler()\n",
    "# Fitting the Standard Scaler with the training data.\n",
    "X_scaler = scaler.fit(X_train)\n",
    "\n",
    "# Scaling the data.\n",
    "X_train_scaled = X_scaler.transform(X_train)\n",
    "X_test_scaled = X_scaler.transform(X_test)"
   ]
  },
  {
   "cell_type": "code",
   "execution_count": 20,
   "id": "31ddf5cc",
   "metadata": {},
   "outputs": [],
   "source": [
    "# Create a random forest regressor. (remember to play around with parameters)\n",
    "rfr_model = RandomForestRegressor(n_estimators=300, max_features = 'sqrt', max_depth = 7, random_state=78) "
   ]
  },
  {
   "cell_type": "code",
   "execution_count": 21,
   "id": "174a704a",
   "metadata": {},
   "outputs": [],
   "source": [
    "# Fit the model\n",
    "rf_model = rfr_model.fit(X_train_scaled, y_train)"
   ]
  },
  {
   "cell_type": "code",
   "execution_count": 22,
   "id": "df47a1d6",
   "metadata": {},
   "outputs": [
    {
     "data": {
      "text/plain": [
       "array([402616.41657214, 405911.24262353, 290004.50447325, ...,\n",
       "       457386.79252062, 322147.60383191, 311519.97816512])"
      ]
     },
     "execution_count": 22,
     "metadata": {},
     "output_type": "execute_result"
    }
   ],
   "source": [
    "# Making predictions using the testing data.\n",
    "predictions = rf_model.predict(X_test_scaled)\n",
    "predictions"
   ]
  },
  {
   "cell_type": "code",
   "execution_count": 23,
   "id": "c52ecdb9",
   "metadata": {},
   "outputs": [
    {
     "data": {
      "text/plain": [
       "134940.22819723617"
      ]
     },
     "execution_count": 23,
     "metadata": {},
     "output_type": "execute_result"
    }
   ],
   "source": [
    "# this evaluates the random forest regressor model\n",
    "metrics.mean_absolute_error(y_test, predictions)"
   ]
  },
  {
   "cell_type": "code",
   "execution_count": 24,
   "id": "e29482e1",
   "metadata": {},
   "outputs": [
    {
     "data": {
      "text/plain": [
       "array([0.14034413, 0.40102862, 0.13858809, 0.32003915])"
      ]
     },
     "execution_count": 24,
     "metadata": {},
     "output_type": "execute_result"
    }
   ],
   "source": [
    "# Calculate feature importance in the Random Forest model. HOW DO WE KNOW IF ACCURATE?\n",
    "importances = rf_model.feature_importances_\n",
    "importances"
   ]
  },
  {
   "cell_type": "code",
   "execution_count": 25,
   "id": "1a232188",
   "metadata": {},
   "outputs": [
    {
     "name": "stdout",
     "output_type": "stream",
     "text": [
      "Mean Absolute Error: 134940.22819723617\n",
      "Mean Squared Error: 47428069601.13741\n",
      "Root Mean Squared Error: 217779.86500394708\n"
     ]
    }
   ],
   "source": [
    "print('Mean Absolute Error:', metrics.mean_absolute_error(y_test, predictions))\n",
    "print('Mean Squared Error:', metrics.mean_squared_error(y_test, predictions))\n",
    "print('Root Mean Squared Error:', np.sqrt(metrics.mean_squared_error(y_test, predictions)))"
   ]
  },
  {
   "cell_type": "markdown",
   "id": "7f47519f",
   "metadata": {},
   "source": [
    "## Test using Linear Regression ML Model"
   ]
  },
  {
   "cell_type": "code",
   "execution_count": 26,
   "id": "0940c6b4",
   "metadata": {},
   "outputs": [],
   "source": [
    "model = LinearRegression()\n",
    "model.fit(X, y)\n",
    "model = model.fit(X_train, y_train)"
   ]
  },
  {
   "cell_type": "code",
   "execution_count": 27,
   "id": "19879d70",
   "metadata": {},
   "outputs": [],
   "source": [
    "# Making predictions using the testing data.\n",
    "predictions = model.predict(X_test)"
   ]
  },
  {
   "cell_type": "code",
   "execution_count": 28,
   "id": "f966bc5f",
   "metadata": {},
   "outputs": [
    {
     "name": "stdout",
     "output_type": "stream",
     "text": [
      "(15041,)\n"
     ]
    }
   ],
   "source": [
    "y_pred = model.predict(X)\n",
    "print(y_pred.shape)"
   ]
  },
  {
   "cell_type": "code",
   "execution_count": 29,
   "id": "fbeef6da",
   "metadata": {},
   "outputs": [
    {
     "name": "stdout",
     "output_type": "stream",
     "text": [
      "Explained Variance Score of model is 0.3360119027854065\n",
      "R-Squared value of model is 0.3359753803207495\n"
     ]
    }
   ],
   "source": [
    "# explained variance score\n",
    "print('Explained Variance Score of model is {}'.format(evs(y_test, predictions)))\n",
    "\n",
    "# R-squared\n",
    "print('R-Squared value of model is {}'.format(r2(y_test, predictions)))"
   ]
  },
  {
   "cell_type": "code",
   "execution_count": null,
   "id": "2afea0db",
   "metadata": {},
   "outputs": [],
   "source": []
  }
 ],
 "metadata": {
  "kernelspec": {
   "display_name": "mlenv",
   "language": "python",
   "name": "mlenv"
  },
  "language_info": {
   "codemirror_mode": {
    "name": "ipython",
    "version": 3
   },
   "file_extension": ".py",
   "mimetype": "text/x-python",
   "name": "python",
   "nbconvert_exporter": "python",
   "pygments_lexer": "ipython3",
   "version": "3.7.13"
  }
 },
 "nbformat": 4,
 "nbformat_minor": 5
}
